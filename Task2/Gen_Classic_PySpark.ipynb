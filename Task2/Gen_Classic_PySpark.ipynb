{
 "cells": [
  {
   "cell_type": "code",
   "execution_count": 1,
   "metadata": {},
   "outputs": [],
   "source": [
    "import random\n",
    "\n",
    "n = 5000\n",
    "\n",
    "with open('file.txt', 'w') as f:\n",
    "    for i in range(n):\n",
    "        x = random.randint(0, 2**32-1)\n",
    "        f.write(str(x) + '\\n')"
   ]
  },
  {
   "cell_type": "code",
   "execution_count": 11,
   "metadata": {},
   "outputs": [
    {
     "name": "stdout",
     "output_type": "stream",
     "text": [
      "20605\n",
      "7.04458714\n"
     ]
    }
   ],
   "source": [
    "import time\n",
    "\n",
    "def count_prime_factors(filename):\n",
    "    primes = {}\n",
    "    with open(filename, 'r') as f:\n",
    "        for line in f:\n",
    "            n = int(line.strip())\n",
    "            for i in range(2, int(n**0.5)+1):\n",
    "                while n % i == 0:\n",
    "                    if i not in primes:\n",
    "                        primes[i] = 0\n",
    "                    primes[i] += 1\n",
    "                    n //= i\n",
    "            if n > 1:\n",
    "                if n not in primes:\n",
    "                    primes[n] = 0\n",
    "                primes[n] += 1\n",
    "    count = 0\n",
    "    for p in primes.values():\n",
    "        count += p\n",
    "    return count\n",
    "\n",
    "if __name__ == '__main__':\n",
    "    time_1 = time.time()\n",
    "    print(count_prime_factors('/home/daniel/VsCodeProgects/lab2/file.txt'))\n",
    "    print(f'{(time.time() - time_1):.8f}')\n"
   ]
  },
  {
   "cell_type": "code",
   "execution_count": 14,
   "metadata": {},
   "outputs": [
    {
     "name": "stderr",
     "output_type": "stream",
     "text": [
      "                                                                                \r"
     ]
    },
    {
     "name": "stdout",
     "output_type": "stream",
     "text": [
      "Суммарное количество простых множителей:  20605\n",
      "2.20509768\n"
     ]
    }
   ],
   "source": [
    "from pyspark import SparkContext, SparkConf\n",
    "\n",
    "\n",
    "def is_prime(n):\n",
    "    if n < 2:\n",
    "        return False\n",
    "    for i in range(2, int(n ** 0.5) + 1):\n",
    "        if n % i == 0:\n",
    "            return False\n",
    "    return True\n",
    "\n",
    "\n",
    "def factorize(n):\n",
    "    factors = []\n",
    "    i = 2\n",
    "    while i * i <= n:\n",
    "        if n % i:\n",
    "            i += 1\n",
    "        else:\n",
    "            n //= i\n",
    "            factors.append(i)\n",
    "    if n > 1:\n",
    "        factors.append(n)\n",
    "    return factors\n",
    "\n",
    "\n",
    "def count_prime_factors(numbers):\n",
    "    prime_factors_count = 0\n",
    "    for number in numbers:\n",
    "        factors = factorize(number)\n",
    "        for factor in factors:\n",
    "            if is_prime(factor):\n",
    "                prime_factors_count += 1\n",
    "    return prime_factors_count\n",
    "\n",
    "\n",
    "conf = SparkConf().setAppName(\"PrimeFactorsCount\")\n",
    "sc = SparkContext(conf=conf)\n",
    "numbers = sc.textFile(\"file.txt\").map(lambda x: int(x))\n",
    "\n",
    "time_1 = time.time()\n",
    "prime_factors_count = numbers.mapPartitions(lambda partition: [count_prime_factors(partition)]).reduce(lambda x, y: x + y)\n",
    "print(\"Total common factors \", prime_factors_count)\n",
    "print(f'{(time.time() - time_1):.8f}')\n",
    "\n",
    "sc.stop()"
   ]
  }
 ],
 "metadata": {
  "kernelspec": {
   "display_name": "Python 3",
   "language": "python",
   "name": "python3"
  },
  "language_info": {
   "codemirror_mode": {
    "name": "ipython",
    "version": 3
   },
   "file_extension": ".py",
   "mimetype": "text/x-python",
   "name": "python",
   "nbconvert_exporter": "python",
   "pygments_lexer": "ipython3",
   "version": "3.10.6"
  },
  "orig_nbformat": 4
 },
 "nbformat": 4,
 "nbformat_minor": 2
}
