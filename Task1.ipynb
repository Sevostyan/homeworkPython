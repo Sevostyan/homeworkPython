{
 "cells": [
  {
   "attachments": {},
   "cell_type": "markdown",
   "metadata": {},
   "source": [
    "## Test"
   ]
  },
  {
   "cell_type": "code",
   "execution_count": 8,
   "metadata": {},
   "outputs": [
    {
     "name": "stdout",
     "output_type": "stream",
     "text": [
      "306.69517589\n"
     ]
    }
   ],
   "source": [
    "# Генерация\n",
    "\n",
    "import time\n",
    "import random\n",
    "import struct\n",
    "\n",
    "def write_numbers():\n",
    "    with open('numbers.bin', 'wb') as f:\n",
    "        for i in range(5 * (10**8)):\n",
    "            num = random.randint(0, 2**32-1)\n",
    "            f.write(struct.pack('>I', num))\n",
    "\n",
    "\n",
    "if __name__ == '__main__':\n",
    "    time_1 = time.time()\n",
    "    write_numbers()\n",
    "    print(f'{(time.time() - time_1):.8f}')\n",
    "\n"
   ]
  },
  {
   "cell_type": "code",
   "execution_count": 10,
   "metadata": {},
   "outputs": [
    {
     "name": "stdout",
     "output_type": "stream",
     "text": [
      "summa 1073769754294372143\n",
      "min_number 4\n",
      "max_number 4294967289\n",
      "130.78426504\n"
     ]
    }
   ],
   "source": [
    "def collect_numbers():\n",
    "    with open('numbers.bin', 'rb') as f:\n",
    "        summ = 0\n",
    "        min_number = 2**32\n",
    "        max_number = 0\n",
    "        for i in range(5 * (10**8)):\n",
    "            f.seek(i*4)\n",
    "            data = f.read(4)\n",
    "            numbers_out = struct.unpack('>I', data)[0]\n",
    "            summ+=numbers_out\n",
    "            if max_number < numbers_out:\n",
    "                max_number = numbers_out\n",
    "            elif min_number > numbers_out:\n",
    "                min_number = numbers_out\n",
    "        print('summa', summ)\n",
    "        print('min_number', min_number)\n",
    "        print('max_number', max_number)\n",
    "\n",
    "        \n",
    "       \n",
    "\n",
    "if __name__ == '__main__':\n",
    "    time_1 = time.time()\n",
    "    collect_numbers()\n",
    "    print(f'{(time.time() - time_1):.8f}')"
   ]
  },
  {
   "cell_type": "code",
   "execution_count": 12,
   "metadata": {},
   "outputs": [
    {
     "name": "stdout",
     "output_type": "stream",
     "text": [
      "Total sum: 1073769754294372143\n",
      "Minimum number: 4\n",
      "Maximum number: 4294967289\n",
      "1555.93987179\n"
     ]
    }
   ],
   "source": [
    "import threading\n",
    "\n",
    "def sum_numbers(file, start, end, result, min_number_threading, max_number_threading):\n",
    "    with open(file, 'rb') as f:\n",
    "        f.seek(start)\n",
    "        sum = 0\n",
    "        minimum = 2**32\n",
    "        maximum = 0\n",
    "        while f.tell() < end:\n",
    "            num = f.read(4)\n",
    "            a = struct.unpack('>L', num)[0]\n",
    "            sum += a\n",
    "            if maximum < a:\n",
    "                maximum = a\n",
    "            elif minimum > a:\n",
    "                minimum = a\n",
    "    result.append(sum)\n",
    "    min_number_threading.append(minimum)\n",
    "    max_number_threading.append(maximum)\n",
    "    \n",
    "\n",
    "def main(file, num_threads):\n",
    "    with open(file, 'rb') as f:\n",
    "        file_size = f.seek(0, 2)\n",
    "    chunk_size = file_size // (num_threads * 4)\n",
    "    threads = []\n",
    "    results = []\n",
    "    min_numbers_threading = []\n",
    "    max_numbers_threading = []\n",
    "    for i in range(num_threads):\n",
    "        start = i * 4 * chunk_size\n",
    "        end = start + 4 * chunk_size\n",
    "        if i == num_threads - 1:\n",
    "            end = file_size\n",
    "        t = threading.Thread(target=sum_numbers, args=(file, start, end, results, min_numbers_threading, max_numbers_threading))\n",
    "        threads.append(t)\n",
    "        t.start()\n",
    "    for t in threads:\n",
    "        t.join()\n",
    "    minimum_number = min(min_numbers_threading)\n",
    "    maximum_number = max(max_numbers_threading)\n",
    "    total_sum = sum(results)\n",
    "    print(f'Total sum: {total_sum}')\n",
    "    print(f'Minimum number: {minimum_number}')\n",
    "    print(f'Maximum number: {maximum_number}')\n",
    "\n",
    "if __name__ == '__main__':\n",
    "    time_1 = time.time()\n",
    "    file = 'numbers.bin'\n",
    "    num_threads = 3\n",
    "    main(file, num_threads)\n",
    "    print(f'{(time.time() - time_1):.8f}')"
   ]
  },
  {
   "cell_type": "code",
   "execution_count": null,
   "metadata": {},
   "outputs": [],
   "source": []
  }
 ],
 "metadata": {
  "kernelspec": {
   "display_name": "Python 3",
   "language": "python",
   "name": "python3"
  },
  "language_info": {
   "codemirror_mode": {
    "name": "ipython",
    "version": 3
   },
   "file_extension": ".py",
   "mimetype": "text/x-python",
   "name": "python",
   "nbconvert_exporter": "python",
   "pygments_lexer": "ipython3",
   "version": "3.10.6"
  },
  "orig_nbformat": 4,
  "vscode": {
   "interpreter": {
    "hash": "916dbcbb3f70747c44a77c7bcd40155683ae19c65e1c03b4aa3499c5328201f1"
   }
  }
 },
 "nbformat": 4,
 "nbformat_minor": 2
}
