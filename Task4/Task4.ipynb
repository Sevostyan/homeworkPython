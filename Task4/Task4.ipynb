{
 "cells": [
  {
   "attachments": {},
   "cell_type": "markdown",
   "metadata": {},
   "source": [
    "1. Напишите программу, которая находит самое длинное слово."
   ]
  },
  {
   "cell_type": "code",
   "execution_count": 11,
   "metadata": {},
   "outputs": [
    {
     "name": "stderr",
     "output_type": "stream",
     "text": [
      "                                                                                \r"
     ]
    },
    {
     "name": "stdout",
     "output_type": "stream",
     "text": [
      "Самое длинное слово: Галогенарены-Нафталин-Антрацен-Фенантрен-Бензпирен-Коронен-Азулен-Бифенил-Ионол.\n"
     ]
    }
   ],
   "source": [
    "from pyspark import SparkContext\n",
    "\n",
    "sc = SparkContext(\"local\", \"Longest Word\")\n",
    "text_file = sc.textFile(\"/home/daniel/wiki.txt\")\n",
    "\n",
    "\n",
    "def is_valid_word(word):\n",
    "    if word.__contains__(\"http\"):\n",
    "        return False\n",
    "    if any(char.isdigit() for char in word):\n",
    "        return False\n",
    "    return True\n",
    "\n",
    "longest_word = text_file.flatMap(lambda line: line.split(\" \")) \\\n",
    "                        .filter(is_valid_word) \\\n",
    "                        .reduce(lambda x, y: x if len(x) > len(y) else y)\n",
    "\n",
    "print(\"Самое длинное слово:\", longest_word)\n",
    "sc.stop()\n"
   ]
  },
  {
   "attachments": {},
   "cell_type": "markdown",
   "metadata": {},
   "source": [
    "2. Напишите программу, которая находит среднюю длину слов."
   ]
  },
  {
   "cell_type": "code",
   "execution_count": 13,
   "metadata": {},
   "outputs": [
    {
     "name": "stderr",
     "output_type": "stream",
     "text": [
      "                                                                                \r"
     ]
    },
    {
     "name": "stdout",
     "output_type": "stream",
     "text": [
      "Средняя длина слова: 6.433347173833233\n"
     ]
    }
   ],
   "source": [
    "import pyspark\n",
    "\n",
    "sc = pyspark.SparkContext()\n",
    "text_file = sc.textFile(\"/home/daniel/wiki.txt\")\n",
    "\n",
    "avg_word_length = text_file.flatMap(lambda line: line.split(\" \"))\n",
    "    \n",
    "def validate_word(word):\n",
    "    if word == \"-\":\n",
    "        return 0\n",
    "    elif word.endswith(\".\") or word.endswith(\",\") or word.endswith(\":\") or word.endswith(\"?\") or word.endswith(\"!\") or word.endswith(\";\"):\n",
    "        return len(word) - 1\n",
    "    else:\n",
    "        return len(word)\n",
    "    \n",
    "lineLengths = avg_word_length.map(lambda s: validate_word(s))\n",
    "totalLength = lineLengths.reduce(lambda a, b: a + b)\n",
    "print(\"Средняя длина слова:\", totalLength / avg_word_length.count())\n",
    "sc.stop()"
   ]
  },
  {
   "attachments": {},
   "cell_type": "markdown",
   "metadata": {},
   "source": [
    "3. Напишите программу, которая находит самое частоупотребляемое слово, состоящее из латинских букв."
   ]
  },
  {
   "cell_type": "code",
   "execution_count": 18,
   "metadata": {},
   "outputs": [
    {
     "name": "stderr",
     "output_type": "stream",
     "text": [
      "                                                                                \r"
     ]
    },
    {
     "name": "stdout",
     "output_type": "stream",
     "text": [
      "Самое частоупотребляемое слово: wikipedia\n"
     ]
    }
   ],
   "source": [
    "from pyspark import SparkContext\n",
    "import re\n",
    "\n",
    "sc = SparkContext(\"local\", \"Most frequent word\")\n",
    "lines = sc.textFile(\"/home/daniel/wiki.txt\")\n",
    "\n",
    "words = lines.flatMap(lambda line: re.findall(r'\\b(?!ru|http|org)[a-zA-Z]+\\b', line))\n",
    "lowercase_words = words.map(lambda word: word.lower())\n",
    "word_counts = lowercase_words.countByValue()\n",
    "most_frequent_word = max(word_counts, key=word_counts.get)\n",
    "\n",
    "print(\"Самое частоупотребляемое слово:\", most_frequent_word)\n",
    "sc.stop()"
   ]
  },
  {
   "attachments": {},
   "cell_type": "markdown",
   "metadata": {},
   "source": [
    "4. Все слова, которые более чем в половине случаев начинаются с большой буквы и встречаются больше 10 раз."
   ]
  },
  {
   "cell_type": "code",
   "execution_count": null,
   "metadata": {},
   "outputs": [],
   "source": []
  }
 ],
 "metadata": {
  "kernelspec": {
   "display_name": "Python 3",
   "language": "python",
   "name": "python3"
  },
  "language_info": {
   "codemirror_mode": {
    "name": "ipython",
    "version": 3
   },
   "file_extension": ".py",
   "mimetype": "text/x-python",
   "name": "python",
   "nbconvert_exporter": "python",
   "pygments_lexer": "ipython3",
   "version": "3.10.6"
  },
  "orig_nbformat": 4
 },
 "nbformat": 4,
 "nbformat_minor": 2
}
